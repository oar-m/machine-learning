{
 "cells": [
  {
   "cell_type": "code",
   "execution_count": 1,
   "metadata": {},
   "outputs": [
    {
     "name": "stdout",
     "output_type": "stream",
     "text": [
      "1回目入力1\n",
      "2回目入力2\n",
      "3回目入力3\n",
      "4回目入力4\n",
      "5回目入力4\n",
      "6回目入力4\n",
      "7回目入力4\n",
      "8回目入力4\n",
      "9回目入力4\n",
      "10回目入力\n",
      "[1, 2, 3, 4, 4, 4, 4, 4, 4]\n"
     ]
    }
   ],
   "source": [
    "input_list = []\n",
    "\n",
    "for input_ite in range(1, 11):\n",
    "    input_num = input(f'{input_ite}回目入力')\n",
    "    if input_num.isdigit():\n",
    "        nums = int(input_num)\n",
    "        input_list.append(nums)\n",
    "\n",
    "for \n",
    "print(input_list)"
   ]
  },
  {
   "cell_type": "markdown",
   "metadata": {},
   "source": [
    "#### "
   ]
  }
 ],
 "metadata": {
  "kernelspec": {
   "display_name": "Python 3",
   "language": "python",
   "name": "python3"
  },
  "language_info": {
   "codemirror_mode": {
    "name": "ipython",
    "version": 3
   },
   "file_extension": ".py",
   "mimetype": "text/x-python",
   "name": "python",
   "nbconvert_exporter": "python",
   "pygments_lexer": "ipython3",
   "version": "3.6.5"
  }
 },
 "nbformat": 4,
 "nbformat_minor": 1
}
