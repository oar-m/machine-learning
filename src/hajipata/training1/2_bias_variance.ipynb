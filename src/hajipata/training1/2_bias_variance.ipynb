{
 "cells": [
  {
   "cell_type": "code",
   "execution_count": 2,
   "metadata": {},
   "outputs": [],
   "source": [
    "import math\n",
    "import numpy as np\n",
    "import matplotlib.pyplot as plt\n",
    "%matplotlib inline"
   ]
  },
  {
   "cell_type": "code",
   "execution_count": 3,
   "metadata": {},
   "outputs": [
    {
     "name": "stdout",
     "output_type": "stream",
     "text": [
      "10\n(100, 10)\n[0.73949846 0.8740572  0.89066191 0.70192372 0.49080899 0.30239201\n 0.14401522 0.11025262 0.35706446 0.48130376]\n"
     ]
    }
   ],
   "source": [
    "def cal_target(x, noise):\n",
    "    #  return 0.1 ~ 0.9 when without noise\n",
    "    return 0.5 + 0.4 * math.sin(2 * math.pi * x) + noise\n",
    "\n",
    "def cal_record(X):\n",
    "    noise = np.random.normal(0, 0.05, len(X))\n",
    "    return [cal_target(x, n) for x, n in zip(X, noise)]\n",
    "\n",
    "def dataset(X, size):\n",
    "    return [cal_record(X) for n in range(size)]\n",
    "    \n",
    "X = np.arange(0.1, 1.1, 0.1)\n",
    "a = np.random.normal(0, 0.05, 10)\n",
    "print(len(X))\n",
    "nd = np.array(dataset(X, 100))\n",
    "print(nd.shape)\n",
    "print(nd[0])"
   ]
  },
  {
   "cell_type": "code",
   "execution_count": 4,
   "metadata": {},
   "outputs": [],
   "source": [
    "X = np.arange(0.1, 1.1, 0.1)\n",
    "target = np.array(dataset(X, 100))"
   ]
  },
  {
   "cell_type": "code",
   "execution_count": 9,
   "metadata": {},
   "outputs": [],
   "source": [
    "def predict(target, X, p):\n",
    "    matrix_y = np.empty([0, len(X)])\n",
    "    for t in target:\n",
    "        w = np.polyfit(X , t, p)\n",
    "        y = np.poly1d(w)(X)\n",
    "        matrix_y = np.append(matrix_y, y.reshape(1, -1), axis=0)\n",
    "    return matrix_y\n",
    "\n",
    "\n",
    "# print(predict(target, X, 1))\n",
    "p1 = predict(target, X, 1)"
   ]
  },
  {
   "cell_type": "code",
   "execution_count": 7,
   "metadata": {},
   "outputs": [
    {
     "name": "stdout",
     "output_type": "stream",
     "text": [
      "0.0004946932892770328\n0.034551967381908376\n"
     ]
    }
   ],
   "source": [
    "def variance(matrix):\n",
    "    mean = matrix.mean(axis=1)\n",
    "    deviation = matrix - mean.reshape(-1, 1)\n",
    "    return np.mean(deviation ** 2)\n",
    "\n",
    "def bias(matrix, target):\n",
    "    error = matrix.mean(axis=1) - target.mean(axis=1)\n",
    "    return np.mean(error ** 2)\n",
    "    \n",
    "print(variance(p1.T))\n",
    "print(bias(p1.T, target.T))"
   ]
  },
  {
   "cell_type": "code",
   "execution_count": 8,
   "metadata": {
    "scrolled": true
   },
   "outputs": [
    {
     "name": "stdout",
     "output_type": "stream",
     "text": [
      "1 variance > 0.0004946932892770328\n1 bias         > 0.034551967381908376\n3 variance > 0.0010170941888341524\n3 bias         > 0.0008914074777006673\n6 variance > 0.0018312440007387765\n6 bias         > 8.734777892191276e-07\n10 variance > 0.002529578289314676\n10 bias         > 4.149037333755038e-25\n"
     ]
    },
    {
     "name": "stderr",
     "output_type": "stream",
     "text": [
      "/Users/ryosuke/anaconda3/lib/python3.6/site-packages/ipykernel_launcher.py:4: RankWarning: Polyfit may be poorly conditioned\n  after removing the cwd from sys.path.\n/Users/ryosuke/anaconda3/lib/python3.6/site-packages/ipykernel_launcher.py:4: RankWarning: Polyfit may be poorly conditioned\n  after removing the cwd from sys.path.\n/Users/ryosuke/anaconda3/lib/python3.6/site-packages/ipykernel_launcher.py:4: RankWarning: Polyfit may be poorly conditioned\n  after removing the cwd from sys.path.\n/Users/ryosuke/anaconda3/lib/python3.6/site-packages/ipykernel_launcher.py:4: RankWarning: Polyfit may be poorly conditioned\n  after removing the cwd from sys.path.\n/Users/ryosuke/anaconda3/lib/python3.6/site-packages/ipykernel_launcher.py:4: RankWarning: Polyfit may be poorly conditioned\n  after removing the cwd from sys.path.\n/Users/ryosuke/anaconda3/lib/python3.6/site-packages/ipykernel_launcher.py:4: RankWarning: Polyfit may be poorly conditioned\n  after removing the cwd from sys.path.\n/Users/ryosuke/anaconda3/lib/python3.6/site-packages/ipykernel_launcher.py:4: RankWarning: Polyfit may be poorly conditioned\n  after removing the cwd from sys.path.\n/Users/ryosuke/anaconda3/lib/python3.6/site-packages/ipykernel_launcher.py:4: RankWarning: Polyfit may be poorly conditioned\n  after removing the cwd from sys.path.\n/Users/ryosuke/anaconda3/lib/python3.6/site-packages/ipykernel_launcher.py:4: RankWarning: Polyfit may be poorly conditioned\n  after removing the cwd from sys.path.\n/Users/ryosuke/anaconda3/lib/python3.6/site-packages/ipykernel_launcher.py:4: RankWarning: Polyfit may be poorly conditioned\n  after removing the cwd from sys.path.\n/Users/ryosuke/anaconda3/lib/python3.6/site-packages/ipykernel_launcher.py:4: RankWarning: Polyfit may be poorly conditioned\n  after removing the cwd from sys.path.\n/Users/ryosuke/anaconda3/lib/python3.6/site-packages/ipykernel_launcher.py:4: RankWarning: Polyfit may be poorly conditioned\n  after removing the cwd from sys.path.\n/Users/ryosuke/anaconda3/lib/python3.6/site-packages/ipykernel_launcher.py:4: RankWarning: Polyfit may be poorly conditioned\n  after removing the cwd from sys.path.\n/Users/ryosuke/anaconda3/lib/python3.6/site-packages/ipykernel_launcher.py:4: RankWarning: Polyfit may be poorly conditioned\n  after removing the cwd from sys.path.\n/Users/ryosuke/anaconda3/lib/python3.6/site-packages/ipykernel_launcher.py:4: RankWarning: Polyfit may be poorly conditioned\n  after removing the cwd from sys.path.\n/Users/ryosuke/anaconda3/lib/python3.6/site-packages/ipykernel_launcher.py:4: RankWarning: Polyfit may be poorly conditioned\n  after removing the cwd from sys.path.\n/Users/ryosuke/anaconda3/lib/python3.6/site-packages/ipykernel_launcher.py:4: RankWarning: Polyfit may be poorly conditioned\n  after removing the cwd from sys.path.\n/Users/ryosuke/anaconda3/lib/python3.6/site-packages/ipykernel_launcher.py:4: RankWarning: Polyfit may be poorly conditioned\n  after removing the cwd from sys.path.\n/Users/ryosuke/anaconda3/lib/python3.6/site-packages/ipykernel_launcher.py:4: RankWarning: Polyfit may be poorly conditioned\n  after removing the cwd from sys.path.\n/Users/ryosuke/anaconda3/lib/python3.6/site-packages/ipykernel_launcher.py:4: RankWarning: Polyfit may be poorly conditioned\n  after removing the cwd from sys.path.\n/Users/ryosuke/anaconda3/lib/python3.6/site-packages/ipykernel_launcher.py:4: RankWarning: Polyfit may be poorly conditioned\n  after removing the cwd from sys.path.\n/Users/ryosuke/anaconda3/lib/python3.6/site-packages/ipykernel_launcher.py:4: RankWarning: Polyfit may be poorly conditioned\n  after removing the cwd from sys.path.\n/Users/ryosuke/anaconda3/lib/python3.6/site-packages/ipykernel_launcher.py:4: RankWarning: Polyfit may be poorly conditioned\n  after removing the cwd from sys.path.\n/Users/ryosuke/anaconda3/lib/python3.6/site-packages/ipykernel_launcher.py:4: RankWarning: Polyfit may be poorly conditioned\n  after removing the cwd from sys.path.\n/Users/ryosuke/anaconda3/lib/python3.6/site-packages/ipykernel_launcher.py:4: RankWarning: Polyfit may be poorly conditioned\n  after removing the cwd from sys.path.\n/Users/ryosuke/anaconda3/lib/python3.6/site-packages/ipykernel_launcher.py:4: RankWarning: Polyfit may be poorly conditioned\n  after removing the cwd from sys.path.\n/Users/ryosuke/anaconda3/lib/python3.6/site-packages/ipykernel_launcher.py:4: RankWarning: Polyfit may be poorly conditioned\n  after removing the cwd from sys.path.\n/Users/ryosuke/anaconda3/lib/python3.6/site-packages/ipykernel_launcher.py:4: RankWarning: Polyfit may be poorly conditioned\n  after removing the cwd from sys.path.\n/Users/ryosuke/anaconda3/lib/python3.6/site-packages/ipykernel_launcher.py:4: RankWarning: Polyfit may be poorly conditioned\n  after removing the cwd from sys.path.\n/Users/ryosuke/anaconda3/lib/python3.6/site-packages/ipykernel_launcher.py:4: RankWarning: Polyfit may be poorly conditioned\n  after removing the cwd from sys.path.\n/Users/ryosuke/anaconda3/lib/python3.6/site-packages/ipykernel_launcher.py:4: RankWarning: Polyfit may be poorly conditioned\n  after removing the cwd from sys.path.\n/Users/ryosuke/anaconda3/lib/python3.6/site-packages/ipykernel_launcher.py:4: RankWarning: Polyfit may be poorly conditioned\n  after removing the cwd from sys.path.\n/Users/ryosuke/anaconda3/lib/python3.6/site-packages/ipykernel_launcher.py:4: RankWarning: Polyfit may be poorly conditioned\n  after removing the cwd from sys.path.\n/Users/ryosuke/anaconda3/lib/python3.6/site-packages/ipykernel_launcher.py:4: RankWarning: Polyfit may be poorly conditioned\n  after removing the cwd from sys.path.\n/Users/ryosuke/anaconda3/lib/python3.6/site-packages/ipykernel_launcher.py:4: RankWarning: Polyfit may be poorly conditioned\n  after removing the cwd from sys.path.\n/Users/ryosuke/anaconda3/lib/python3.6/site-packages/ipykernel_launcher.py:4: RankWarning: Polyfit may be poorly conditioned\n  after removing the cwd from sys.path.\n/Users/ryosuke/anaconda3/lib/python3.6/site-packages/ipykernel_launcher.py:4: RankWarning: Polyfit may be poorly conditioned\n  after removing the cwd from sys.path.\n/Users/ryosuke/anaconda3/lib/python3.6/site-packages/ipykernel_launcher.py:4: RankWarning: Polyfit may be poorly conditioned\n  after removing the cwd from sys.path.\n/Users/ryosuke/anaconda3/lib/python3.6/site-packages/ipykernel_launcher.py:4: RankWarning: Polyfit may be poorly conditioned\n  after removing the cwd from sys.path.\n/Users/ryosuke/anaconda3/lib/python3.6/site-packages/ipykernel_launcher.py:4: RankWarning: Polyfit may be poorly conditioned\n  after removing the cwd from sys.path.\n/Users/ryosuke/anaconda3/lib/python3.6/site-packages/ipykernel_launcher.py:4: RankWarning: Polyfit may be poorly conditioned\n  after removing the cwd from sys.path.\n/Users/ryosuke/anaconda3/lib/python3.6/site-packages/ipykernel_launcher.py:4: RankWarning: Polyfit may be poorly conditioned\n  after removing the cwd from sys.path.\n/Users/ryosuke/anaconda3/lib/python3.6/site-packages/ipykernel_launcher.py:4: RankWarning: Polyfit may be poorly conditioned\n  after removing the cwd from sys.path.\n/Users/ryosuke/anaconda3/lib/python3.6/site-packages/ipykernel_launcher.py:4: RankWarning: Polyfit may be poorly conditioned\n  after removing the cwd from sys.path.\n/Users/ryosuke/anaconda3/lib/python3.6/site-packages/ipykernel_launcher.py:4: RankWarning: Polyfit may be poorly conditioned\n  after removing the cwd from sys.path.\n/Users/ryosuke/anaconda3/lib/python3.6/site-packages/ipykernel_launcher.py:4: RankWarning: Polyfit may be poorly conditioned\n  after removing the cwd from sys.path.\n/Users/ryosuke/anaconda3/lib/python3.6/site-packages/ipykernel_launcher.py:4: RankWarning: Polyfit may be poorly conditioned\n  after removing the cwd from sys.path.\n/Users/ryosuke/anaconda3/lib/python3.6/site-packages/ipykernel_launcher.py:4: RankWarning: Polyfit may be poorly conditioned\n  after removing the cwd from sys.path.\n/Users/ryosuke/anaconda3/lib/python3.6/site-packages/ipykernel_launcher.py:4: RankWarning: Polyfit may be poorly conditioned\n  after removing the cwd from sys.path.\n/Users/ryosuke/anaconda3/lib/python3.6/site-packages/ipykernel_launcher.py:4: RankWarning: Polyfit may be poorly conditioned\n  after removing the cwd from sys.path.\n/Users/ryosuke/anaconda3/lib/python3.6/site-packages/ipykernel_launcher.py:4: RankWarning: Polyfit may be poorly conditioned\n  after removing the cwd from sys.path.\n/Users/ryosuke/anaconda3/lib/python3.6/site-packages/ipykernel_launcher.py:4: RankWarning: Polyfit may be poorly conditioned\n  after removing the cwd from sys.path.\n/Users/ryosuke/anaconda3/lib/python3.6/site-packages/ipykernel_launcher.py:4: RankWarning: Polyfit may be poorly conditioned\n  after removing the cwd from sys.path.\n/Users/ryosuke/anaconda3/lib/python3.6/site-packages/ipykernel_launcher.py:4: RankWarning: Polyfit may be poorly conditioned\n  after removing the cwd from sys.path.\n/Users/ryosuke/anaconda3/lib/python3.6/site-packages/ipykernel_launcher.py:4: RankWarning: Polyfit may be poorly conditioned\n  after removing the cwd from sys.path.\n/Users/ryosuke/anaconda3/lib/python3.6/site-packages/ipykernel_launcher.py:4: RankWarning: Polyfit may be poorly conditioned\n  after removing the cwd from sys.path.\n/Users/ryosuke/anaconda3/lib/python3.6/site-packages/ipykernel_launcher.py:4: RankWarning: Polyfit may be poorly conditioned\n  after removing the cwd from sys.path.\n/Users/ryosuke/anaconda3/lib/python3.6/site-packages/ipykernel_launcher.py:4: RankWarning: Polyfit may be poorly conditioned\n  after removing the cwd from sys.path.\n/Users/ryosuke/anaconda3/lib/python3.6/site-packages/ipykernel_launcher.py:4: RankWarning: Polyfit may be poorly conditioned\n  after removing the cwd from sys.path.\n/Users/ryosuke/anaconda3/lib/python3.6/site-packages/ipykernel_launcher.py:4: RankWarning: Polyfit may be poorly conditioned\n  after removing the cwd from sys.path.\n/Users/ryosuke/anaconda3/lib/python3.6/site-packages/ipykernel_launcher.py:4: RankWarning: Polyfit may be poorly conditioned\n  after removing the cwd from sys.path.\n/Users/ryosuke/anaconda3/lib/python3.6/site-packages/ipykernel_launcher.py:4: RankWarning: Polyfit may be poorly conditioned\n  after removing the cwd from sys.path.\n/Users/ryosuke/anaconda3/lib/python3.6/site-packages/ipykernel_launcher.py:4: RankWarning: Polyfit may be poorly conditioned\n  after removing the cwd from sys.path.\n/Users/ryosuke/anaconda3/lib/python3.6/site-packages/ipykernel_launcher.py:4: RankWarning: Polyfit may be poorly conditioned\n  after removing the cwd from sys.path.\n/Users/ryosuke/anaconda3/lib/python3.6/site-packages/ipykernel_launcher.py:4: RankWarning: Polyfit may be poorly conditioned\n  after removing the cwd from sys.path.\n/Users/ryosuke/anaconda3/lib/python3.6/site-packages/ipykernel_launcher.py:4: RankWarning: Polyfit may be poorly conditioned\n  after removing the cwd from sys.path.\n/Users/ryosuke/anaconda3/lib/python3.6/site-packages/ipykernel_launcher.py:4: RankWarning: Polyfit may be poorly conditioned\n  after removing the cwd from sys.path.\n/Users/ryosuke/anaconda3/lib/python3.6/site-packages/ipykernel_launcher.py:4: RankWarning: Polyfit may be poorly conditioned\n  after removing the cwd from sys.path.\n/Users/ryosuke/anaconda3/lib/python3.6/site-packages/ipykernel_launcher.py:4: RankWarning: Polyfit may be poorly conditioned\n  after removing the cwd from sys.path.\n/Users/ryosuke/anaconda3/lib/python3.6/site-packages/ipykernel_launcher.py:4: RankWarning: Polyfit may be poorly conditioned\n  after removing the cwd from sys.path.\n/Users/ryosuke/anaconda3/lib/python3.6/site-packages/ipykernel_launcher.py:4: RankWarning: Polyfit may be poorly conditioned\n  after removing the cwd from sys.path.\n/Users/ryosuke/anaconda3/lib/python3.6/site-packages/ipykernel_launcher.py:4: RankWarning: Polyfit may be poorly conditioned\n  after removing the cwd from sys.path.\n/Users/ryosuke/anaconda3/lib/python3.6/site-packages/ipykernel_launcher.py:4: RankWarning: Polyfit may be poorly conditioned\n  after removing the cwd from sys.path.\n/Users/ryosuke/anaconda3/lib/python3.6/site-packages/ipykernel_launcher.py:4: RankWarning: Polyfit may be poorly conditioned\n  after removing the cwd from sys.path.\n/Users/ryosuke/anaconda3/lib/python3.6/site-packages/ipykernel_launcher.py:4: RankWarning: Polyfit may be poorly conditioned\n  after removing the cwd from sys.path.\n/Users/ryosuke/anaconda3/lib/python3.6/site-packages/ipykernel_launcher.py:4: RankWarning: Polyfit may be poorly conditioned\n  after removing the cwd from sys.path.\n/Users/ryosuke/anaconda3/lib/python3.6/site-packages/ipykernel_launcher.py:4: RankWarning: Polyfit may be poorly conditioned\n  after removing the cwd from sys.path.\n/Users/ryosuke/anaconda3/lib/python3.6/site-packages/ipykernel_launcher.py:4: RankWarning: Polyfit may be poorly conditioned\n  after removing the cwd from sys.path.\n/Users/ryosuke/anaconda3/lib/python3.6/site-packages/ipykernel_launcher.py:4: RankWarning: Polyfit may be poorly conditioned\n  after removing the cwd from sys.path.\n/Users/ryosuke/anaconda3/lib/python3.6/site-packages/ipykernel_launcher.py:4: RankWarning: Polyfit may be poorly conditioned\n  after removing the cwd from sys.path.\n/Users/ryosuke/anaconda3/lib/python3.6/site-packages/ipykernel_launcher.py:4: RankWarning: Polyfit may be poorly conditioned\n  after removing the cwd from sys.path.\n/Users/ryosuke/anaconda3/lib/python3.6/site-packages/ipykernel_launcher.py:4: RankWarning: Polyfit may be poorly conditioned\n  after removing the cwd from sys.path.\n/Users/ryosuke/anaconda3/lib/python3.6/site-packages/ipykernel_launcher.py:4: RankWarning: Polyfit may be poorly conditioned\n  after removing the cwd from sys.path.\n/Users/ryosuke/anaconda3/lib/python3.6/site-packages/ipykernel_launcher.py:4: RankWarning: Polyfit may be poorly conditioned\n  after removing the cwd from sys.path.\n/Users/ryosuke/anaconda3/lib/python3.6/site-packages/ipykernel_launcher.py:4: RankWarning: Polyfit may be poorly conditioned\n  after removing the cwd from sys.path.\n/Users/ryosuke/anaconda3/lib/python3.6/site-packages/ipykernel_launcher.py:4: RankWarning: Polyfit may be poorly conditioned\n  after removing the cwd from sys.path.\n/Users/ryosuke/anaconda3/lib/python3.6/site-packages/ipykernel_launcher.py:4: RankWarning: Polyfit may be poorly conditioned\n  after removing the cwd from sys.path.\n/Users/ryosuke/anaconda3/lib/python3.6/site-packages/ipykernel_launcher.py:4: RankWarning: Polyfit may be poorly conditioned\n  after removing the cwd from sys.path.\n/Users/ryosuke/anaconda3/lib/python3.6/site-packages/ipykernel_launcher.py:4: RankWarning: Polyfit may be poorly conditioned\n  after removing the cwd from sys.path.\n/Users/ryosuke/anaconda3/lib/python3.6/site-packages/ipykernel_launcher.py:4: RankWarning: Polyfit may be poorly conditioned\n  after removing the cwd from sys.path.\n/Users/ryosuke/anaconda3/lib/python3.6/site-packages/ipykernel_launcher.py:4: RankWarning: Polyfit may be poorly conditioned\n  after removing the cwd from sys.path.\n/Users/ryosuke/anaconda3/lib/python3.6/site-packages/ipykernel_launcher.py:4: RankWarning: Polyfit may be poorly conditioned\n  after removing the cwd from sys.path.\n/Users/ryosuke/anaconda3/lib/python3.6/site-packages/ipykernel_launcher.py:4: RankWarning: Polyfit may be poorly conditioned\n  after removing the cwd from sys.path.\n/Users/ryosuke/anaconda3/lib/python3.6/site-packages/ipykernel_launcher.py:4: RankWarning: Polyfit may be poorly conditioned\n  after removing the cwd from sys.path.\n/Users/ryosuke/anaconda3/lib/python3.6/site-packages/ipykernel_launcher.py:4: RankWarning: Polyfit may be poorly conditioned\n  after removing the cwd from sys.path.\n/Users/ryosuke/anaconda3/lib/python3.6/site-packages/ipykernel_launcher.py:4: RankWarning: Polyfit may be poorly conditioned\n  after removing the cwd from sys.path.\n/Users/ryosuke/anaconda3/lib/python3.6/site-packages/ipykernel_launcher.py:4: RankWarning: Polyfit may be poorly conditioned\n  after removing the cwd from sys.path.\n/Users/ryosuke/anaconda3/lib/python3.6/site-packages/ipykernel_launcher.py:4: RankWarning: Polyfit may be poorly conditioned\n  after removing the cwd from sys.path.\n/Users/ryosuke/anaconda3/lib/python3.6/site-packages/ipykernel_launcher.py:4: RankWarning: Polyfit may be poorly conditioned\n  after removing the cwd from sys.path.\n/Users/ryosuke/anaconda3/lib/python3.6/site-packages/ipykernel_launcher.py:4: RankWarning: Polyfit may be poorly conditioned\n  after removing the cwd from sys.path.\n"
     ]
    }
   ],
   "source": [
    "def main():\n",
    "    for p in ([1, 3, 6, 10]):\n",
    "        h = predict(target, X, p)\n",
    "        print(f\"{p} variance > {variance(h.T)}\")\n",
    "        print(f\"{p} bias         > { bias(h.T, target.T)}\")   \n",
    "\n",
    "# First of all, Need to get value of target and X       \n",
    "main()"
   ]
  },
  {
   "cell_type": "code",
   "execution_count": null,
   "metadata": {},
   "outputs": [],
   "source": []
  }
 ],
 "metadata": {
  "kernelspec": {
   "display_name": "Python 3",
   "language": "python",
   "name": "python3"
  },
  "language_info": {
   "codemirror_mode": {
    "name": "ipython",
    "version": 3
   },
   "file_extension": ".py",
   "mimetype": "text/x-python",
   "name": "python",
   "nbconvert_exporter": "python",
   "pygments_lexer": "ipython3",
   "version": "3.6.5"
  }
 },
 "nbformat": 4,
 "nbformat_minor": 1
}
